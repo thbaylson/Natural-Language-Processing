{
 "cells": [
  {
   "cell_type": "markdown",
   "metadata": {},
   "source": [
    "# This Notebook showcases the kinds of analysis we can perform"
   ]
  },
  {
   "cell_type": "markdown",
   "metadata": {},
   "source": [
    "### Import libraries and load the pandas DataFrame"
   ]
  },
  {
   "cell_type": "code",
   "execution_count": 34,
   "metadata": {},
   "outputs": [
    {
     "name": "stdout",
     "output_type": "stream",
     "text": [
      "file read\n"
     ]
    }
   ],
   "source": [
    "import matplotlib.pyplot as plt\n",
    "import plotly.express as px\n",
    "import pandas as pd\n",
    "import numpy as np\n",
    "import math\n",
    "\n",
    "from wordcloud import WordCloud, STOPWORDS, ImageColorGenerator\n",
    "from IPython.display import display, HTML\n",
    "from PIL import Image\n",
    "\n",
    "#df4['column3'] = np.where(df4['gender'] == '', df4['name'], df4['gender'])\n",
    "#log_df.fillna('null', inplace=True)\n",
    "#log_df.set_index(\"rule_id\", inplace= True)"
   ]
  },
  {
   "cell_type": "code",
   "execution_count": 144,
   "metadata": {},
   "outputs": [
    {
     "data": {
      "text/html": [
       "<div>\n",
       "<style scoped>\n",
       "    .dataframe tbody tr th:only-of-type {\n",
       "        vertical-align: middle;\n",
       "    }\n",
       "\n",
       "    .dataframe tbody tr th {\n",
       "        vertical-align: top;\n",
       "    }\n",
       "\n",
       "    .dataframe thead th {\n",
       "        text-align: right;\n",
       "    }\n",
       "</style>\n",
       "<table border=\"1\" class=\"dataframe\">\n",
       "  <thead>\n",
       "    <tr style=\"text-align: right;\">\n",
       "      <th></th>\n",
       "      <th>rule_id</th>\n",
       "      <th>acting_user</th>\n",
       "      <th>action</th>\n",
       "      <th>target_type</th>\n",
       "      <th>target_resource</th>\n",
       "      <th>target_user</th>\n",
       "      <th>has_conditional</th>\n",
       "      <th>date</th>\n",
       "      <th>time</th>\n",
       "      <th>raw</th>\n",
       "    </tr>\n",
       "  </thead>\n",
       "  <tbody>\n",
       "    <tr>\n",
       "      <th>0</th>\n",
       "      <td>128</td>\n",
       "      <td>ben</td>\n",
       "      <td>read</td>\n",
       "      <td>NaN</td>\n",
       "      <td>NaN</td>\n",
       "      <td>tyler</td>\n",
       "      <td>1</td>\n",
       "      <td>10/13/20</td>\n",
       "      <td>19:10:06</td>\n",
       "      <td>Ben can read my documents on weekdays after 17:00</td>\n",
       "    </tr>\n",
       "    <tr>\n",
       "      <th>1</th>\n",
       "      <td>129</td>\n",
       "      <td>bob</td>\n",
       "      <td>-edit</td>\n",
       "      <td>case</td>\n",
       "      <td>txt</td>\n",
       "      <td>tyler</td>\n",
       "      <td>0</td>\n",
       "      <td>10/13/20</td>\n",
       "      <td>19:10:32</td>\n",
       "      <td>Bob can't access my txt files</td>\n",
       "    </tr>\n",
       "    <tr>\n",
       "      <th>2</th>\n",
       "      <td>130</td>\n",
       "      <td>NaN</td>\n",
       "      <td>edit</td>\n",
       "      <td>case</td>\n",
       "      <td>txt</td>\n",
       "      <td>bob</td>\n",
       "      <td>1</td>\n",
       "      <td>10/13/20</td>\n",
       "      <td>19:11:04</td>\n",
       "      <td>I can edit bob's txt files on fridays</td>\n",
       "    </tr>\n",
       "    <tr>\n",
       "      <th>3</th>\n",
       "      <td>131</td>\n",
       "      <td>bob</td>\n",
       "      <td>edit</td>\n",
       "      <td>case</td>\n",
       "      <td>txt</td>\n",
       "      <td>NaN</td>\n",
       "      <td>0</td>\n",
       "      <td>10/13/20</td>\n",
       "      <td>19:12:38</td>\n",
       "      <td>Bob can access the txt files that are mine</td>\n",
       "    </tr>\n",
       "    <tr>\n",
       "      <th>4</th>\n",
       "      <td>132</td>\n",
       "      <td>tyler</td>\n",
       "      <td>edit</td>\n",
       "      <td>case</td>\n",
       "      <td>txt</td>\n",
       "      <td>bob</td>\n",
       "      <td>0</td>\n",
       "      <td>10/13/20</td>\n",
       "      <td>19:15:20</td>\n",
       "      <td>I can edit bob's txt files</td>\n",
       "    </tr>\n",
       "    <tr>\n",
       "      <th>5</th>\n",
       "      <td>133</td>\n",
       "      <td>tyler</td>\n",
       "      <td>-edit</td>\n",
       "      <td>case</td>\n",
       "      <td>txt</td>\n",
       "      <td>bob</td>\n",
       "      <td>0</td>\n",
       "      <td>10/13/20</td>\n",
       "      <td>19:16:25</td>\n",
       "      <td>I can't access bob's txt file</td>\n",
       "    </tr>\n",
       "    <tr>\n",
       "      <th>6</th>\n",
       "      <td>134</td>\n",
       "      <td>tyler</td>\n",
       "      <td>edit</td>\n",
       "      <td>case</td>\n",
       "      <td>txt</td>\n",
       "      <td>bob</td>\n",
       "      <td>1</td>\n",
       "      <td>10/13/20</td>\n",
       "      <td>19:16:54</td>\n",
       "      <td>Can I access bob's txt file on wednesdays?</td>\n",
       "    </tr>\n",
       "    <tr>\n",
       "      <th>7</th>\n",
       "      <td>135</td>\n",
       "      <td>tyler</td>\n",
       "      <td>edit</td>\n",
       "      <td>case</td>\n",
       "      <td>txt</td>\n",
       "      <td>bob</td>\n",
       "      <td>1</td>\n",
       "      <td>10/13/20</td>\n",
       "      <td>19:17:25</td>\n",
       "      <td>I want to access bob's txt files on mondays</td>\n",
       "    </tr>\n",
       "    <tr>\n",
       "      <th>8</th>\n",
       "      <td>136</td>\n",
       "      <td>tyler</td>\n",
       "      <td>edit</td>\n",
       "      <td>NaN</td>\n",
       "      <td>NaN</td>\n",
       "      <td>tyler</td>\n",
       "      <td>1</td>\n",
       "      <td>10/13/20</td>\n",
       "      <td>19:25:25</td>\n",
       "      <td>I want bob to access my files on thursdays and...</td>\n",
       "    </tr>\n",
       "    <tr>\n",
       "      <th>9</th>\n",
       "      <td>137</td>\n",
       "      <td>ben</td>\n",
       "      <td>read</td>\n",
       "      <td>case</td>\n",
       "      <td>txt</td>\n",
       "      <td>tyler</td>\n",
       "      <td>1</td>\n",
       "      <td>10/13/20</td>\n",
       "      <td>19:32:13</td>\n",
       "      <td>Ben can read my txt files on weekdays</td>\n",
       "    </tr>\n",
       "    <tr>\n",
       "      <th>10</th>\n",
       "      <td>138</td>\n",
       "      <td>ben</td>\n",
       "      <td>read</td>\n",
       "      <td>case</td>\n",
       "      <td>txt</td>\n",
       "      <td>tyler</td>\n",
       "      <td>1</td>\n",
       "      <td>10/13/20</td>\n",
       "      <td>19:32:57</td>\n",
       "      <td>Ben can read my txt files on weekdays and satu...</td>\n",
       "    </tr>\n",
       "    <tr>\n",
       "      <th>11</th>\n",
       "      <td>139</td>\n",
       "      <td>tyler</td>\n",
       "      <td>edit</td>\n",
       "      <td>case</td>\n",
       "      <td>txt</td>\n",
       "      <td>tyler</td>\n",
       "      <td>1</td>\n",
       "      <td>10/13/20</td>\n",
       "      <td>19:40:51</td>\n",
       "      <td>I want bob to access my txt files on thursdays...</td>\n",
       "    </tr>\n",
       "    <tr>\n",
       "      <th>12</th>\n",
       "      <td>140</td>\n",
       "      <td>bob</td>\n",
       "      <td>edit</td>\n",
       "      <td>case</td>\n",
       "      <td>txt</td>\n",
       "      <td>tyler</td>\n",
       "      <td>1</td>\n",
       "      <td>10/13/20</td>\n",
       "      <td>19:43:44</td>\n",
       "      <td>I want bob to access my txt files on thursdays...</td>\n",
       "    </tr>\n",
       "    <tr>\n",
       "      <th>13</th>\n",
       "      <td>141</td>\n",
       "      <td>tyler</td>\n",
       "      <td>edit</td>\n",
       "      <td>case</td>\n",
       "      <td>txt</td>\n",
       "      <td>bob</td>\n",
       "      <td>0</td>\n",
       "      <td>10/13/20</td>\n",
       "      <td>19:44:28</td>\n",
       "      <td>I can access bob's txt files</td>\n",
       "    </tr>\n",
       "    <tr>\n",
       "      <th>14</th>\n",
       "      <td>142</td>\n",
       "      <td>tyler</td>\n",
       "      <td>edit</td>\n",
       "      <td>case</td>\n",
       "      <td>txt</td>\n",
       "      <td>bob</td>\n",
       "      <td>0</td>\n",
       "      <td>10/13/20</td>\n",
       "      <td>19:45:18</td>\n",
       "      <td>I want to access bob's txt files</td>\n",
       "    </tr>\n",
       "    <tr>\n",
       "      <th>15</th>\n",
       "      <td>143</td>\n",
       "      <td>bob</td>\n",
       "      <td>edit</td>\n",
       "      <td>case</td>\n",
       "      <td>txt</td>\n",
       "      <td>ben</td>\n",
       "      <td>0</td>\n",
       "      <td>10/13/20</td>\n",
       "      <td>19:45:36</td>\n",
       "      <td>Bob can access ben's txt files</td>\n",
       "    </tr>\n",
       "    <tr>\n",
       "      <th>16</th>\n",
       "      <td>144</td>\n",
       "      <td>bob</td>\n",
       "      <td>-read</td>\n",
       "      <td>case</td>\n",
       "      <td>txt</td>\n",
       "      <td>tyler</td>\n",
       "      <td>0</td>\n",
       "      <td>10/13/20</td>\n",
       "      <td>19:55:51</td>\n",
       "      <td>Bob can't read my txt files</td>\n",
       "    </tr>\n",
       "    <tr>\n",
       "      <th>17</th>\n",
       "      <td>145</td>\n",
       "      <td>bob</td>\n",
       "      <td>edit</td>\n",
       "      <td>case</td>\n",
       "      <td>txt</td>\n",
       "      <td>tyler</td>\n",
       "      <td>0</td>\n",
       "      <td>11/12/20</td>\n",
       "      <td>20:47:38</td>\n",
       "      <td>Bob can access my txt files</td>\n",
       "    </tr>\n",
       "    <tr>\n",
       "      <th>18</th>\n",
       "      <td>146</td>\n",
       "      <td>redd</td>\n",
       "      <td>edit</td>\n",
       "      <td>case</td>\n",
       "      <td>txt</td>\n",
       "      <td>bob</td>\n",
       "      <td>0</td>\n",
       "      <td>11/12/20</td>\n",
       "      <td>20:50:38</td>\n",
       "      <td>Redd can access Bob's txt files</td>\n",
       "    </tr>\n",
       "    <tr>\n",
       "      <th>19</th>\n",
       "      <td>147</td>\n",
       "      <td>redd</td>\n",
       "      <td>-edit</td>\n",
       "      <td>case</td>\n",
       "      <td>txt</td>\n",
       "      <td>bob</td>\n",
       "      <td>0</td>\n",
       "      <td>11/12/20</td>\n",
       "      <td>20:50:39</td>\n",
       "      <td>Redd can't access Bob's txt files</td>\n",
       "    </tr>\n",
       "    <tr>\n",
       "      <th>20</th>\n",
       "      <td>148</td>\n",
       "      <td>redd</td>\n",
       "      <td>edit</td>\n",
       "      <td>case</td>\n",
       "      <td>txt</td>\n",
       "      <td>bob</td>\n",
       "      <td>0</td>\n",
       "      <td>11/12/20</td>\n",
       "      <td>20:50:40</td>\n",
       "      <td>Redd is allowed access to Bob's txt files</td>\n",
       "    </tr>\n",
       "    <tr>\n",
       "      <th>21</th>\n",
       "      <td>149</td>\n",
       "      <td>redd</td>\n",
       "      <td>edit</td>\n",
       "      <td>case</td>\n",
       "      <td>txt</td>\n",
       "      <td>bob</td>\n",
       "      <td>0</td>\n",
       "      <td>11/12/20</td>\n",
       "      <td>20:50:41</td>\n",
       "      <td>Redd can modify Bob's txt files</td>\n",
       "    </tr>\n",
       "    <tr>\n",
       "      <th>22</th>\n",
       "      <td>150</td>\n",
       "      <td>redd</td>\n",
       "      <td>edit</td>\n",
       "      <td>case</td>\n",
       "      <td>txt</td>\n",
       "      <td>bob</td>\n",
       "      <td>0</td>\n",
       "      <td>11/12/20</td>\n",
       "      <td>20:50:42</td>\n",
       "      <td>Redd can edit Bob's txt files</td>\n",
       "    </tr>\n",
       "    <tr>\n",
       "      <th>23</th>\n",
       "      <td>151</td>\n",
       "      <td>redd</td>\n",
       "      <td>edit</td>\n",
       "      <td>case</td>\n",
       "      <td>txt</td>\n",
       "      <td>bob</td>\n",
       "      <td>0</td>\n",
       "      <td>11/12/20</td>\n",
       "      <td>20:50:43</td>\n",
       "      <td>Redd can change Bob's txt files</td>\n",
       "    </tr>\n",
       "    <tr>\n",
       "      <th>24</th>\n",
       "      <td>152</td>\n",
       "      <td>redd</td>\n",
       "      <td>-edit</td>\n",
       "      <td>case</td>\n",
       "      <td>txt</td>\n",
       "      <td>bob</td>\n",
       "      <td>0</td>\n",
       "      <td>11/23/20</td>\n",
       "      <td>22:17:01</td>\n",
       "      <td>Redd can't access bob's txt files</td>\n",
       "    </tr>\n",
       "  </tbody>\n",
       "</table>\n",
       "</div>"
      ],
      "text/plain": [
       "    rule_id acting_user action target_type target_resource target_user  \\\n",
       "0       128         ben   read         NaN             NaN       tyler   \n",
       "1       129         bob  -edit        case             txt       tyler   \n",
       "2       130         NaN   edit        case             txt         bob   \n",
       "3       131         bob   edit        case             txt         NaN   \n",
       "4       132       tyler   edit        case             txt         bob   \n",
       "5       133       tyler  -edit        case             txt         bob   \n",
       "6       134       tyler   edit        case             txt         bob   \n",
       "7       135       tyler   edit        case             txt         bob   \n",
       "8       136       tyler   edit         NaN             NaN       tyler   \n",
       "9       137         ben   read        case             txt       tyler   \n",
       "10      138         ben   read        case             txt       tyler   \n",
       "11      139       tyler   edit        case             txt       tyler   \n",
       "12      140         bob   edit        case             txt       tyler   \n",
       "13      141       tyler   edit        case             txt         bob   \n",
       "14      142       tyler   edit        case             txt         bob   \n",
       "15      143         bob   edit        case             txt         ben   \n",
       "16      144         bob  -read        case             txt       tyler   \n",
       "17      145         bob   edit        case             txt       tyler   \n",
       "18      146        redd   edit        case             txt         bob   \n",
       "19      147        redd  -edit        case             txt         bob   \n",
       "20      148        redd   edit        case             txt         bob   \n",
       "21      149        redd   edit        case             txt         bob   \n",
       "22      150        redd   edit        case             txt         bob   \n",
       "23      151        redd   edit        case             txt         bob   \n",
       "24      152        redd  -edit        case             txt         bob   \n",
       "\n",
       "    has_conditional      date      time  \\\n",
       "0                 1  10/13/20  19:10:06   \n",
       "1                 0  10/13/20  19:10:32   \n",
       "2                 1  10/13/20  19:11:04   \n",
       "3                 0  10/13/20  19:12:38   \n",
       "4                 0  10/13/20  19:15:20   \n",
       "5                 0  10/13/20  19:16:25   \n",
       "6                 1  10/13/20  19:16:54   \n",
       "7                 1  10/13/20  19:17:25   \n",
       "8                 1  10/13/20  19:25:25   \n",
       "9                 1  10/13/20  19:32:13   \n",
       "10                1  10/13/20  19:32:57   \n",
       "11                1  10/13/20  19:40:51   \n",
       "12                1  10/13/20  19:43:44   \n",
       "13                0  10/13/20  19:44:28   \n",
       "14                0  10/13/20  19:45:18   \n",
       "15                0  10/13/20  19:45:36   \n",
       "16                0  10/13/20  19:55:51   \n",
       "17                0  11/12/20  20:47:38   \n",
       "18                0  11/12/20  20:50:38   \n",
       "19                0  11/12/20  20:50:39   \n",
       "20                0  11/12/20  20:50:40   \n",
       "21                0  11/12/20  20:50:41   \n",
       "22                0  11/12/20  20:50:42   \n",
       "23                0  11/12/20  20:50:43   \n",
       "24                0  11/23/20  22:17:01   \n",
       "\n",
       "                                                  raw  \n",
       "0   Ben can read my documents on weekdays after 17:00  \n",
       "1                       Bob can't access my txt files  \n",
       "2               I can edit bob's txt files on fridays  \n",
       "3          Bob can access the txt files that are mine  \n",
       "4                          I can edit bob's txt files  \n",
       "5                       I can't access bob's txt file  \n",
       "6          Can I access bob's txt file on wednesdays?  \n",
       "7         I want to access bob's txt files on mondays  \n",
       "8   I want bob to access my files on thursdays and...  \n",
       "9               Ben can read my txt files on weekdays  \n",
       "10  Ben can read my txt files on weekdays and satu...  \n",
       "11  I want bob to access my txt files on thursdays...  \n",
       "12  I want bob to access my txt files on thursdays...  \n",
       "13                       I can access bob's txt files  \n",
       "14                   I want to access bob's txt files  \n",
       "15                     Bob can access ben's txt files  \n",
       "16                        Bob can't read my txt files  \n",
       "17                        Bob can access my txt files  \n",
       "18                    Redd can access Bob's txt files  \n",
       "19                  Redd can't access Bob's txt files  \n",
       "20          Redd is allowed access to Bob's txt files  \n",
       "21                    Redd can modify Bob's txt files  \n",
       "22                      Redd can edit Bob's txt files  \n",
       "23                    Redd can change Bob's txt files  \n",
       "24                  Redd can't access bob's txt files  "
      ]
     },
     "execution_count": 144,
     "metadata": {},
     "output_type": "execute_result"
    }
   ],
   "source": [
    "log_df = pd.read_json(\"log.json\", orient= \"table\", convert_dates=False)\n",
    "log_df.replace(r'^$', np.nan, regex=True, inplace = True)\n",
    "log_df"
   ]
  },
  {
   "cell_type": "markdown",
   "metadata": {},
   "source": [
    "### Let's do a group by to find who is making the most policies"
   ]
  },
  {
   "cell_type": "code",
   "execution_count": 145,
   "metadata": {},
   "outputs": [
    {
     "data": {
      "application/vnd.plotly.v1+json": {
       "config": {
        "plotlyServerURL": "https://plot.ly"
       },
       "data": [
        {
         "alignmentgroup": "True",
         "hoverlabel": {
          "namelength": 0
         },
         "hovertemplate": "acting_user=%{x}<br>action=%{y}",
         "legendgroup": "",
         "marker": {
          "color": "#636efa"
         },
         "name": "",
         "offsetgroup": "",
         "orientation": "v",
         "showlegend": false,
         "textposition": "auto",
         "type": "bar",
         "x": [
          "ben",
          "bob",
          "redd",
          "tyler"
         ],
         "xaxis": "x",
         "y": [
          3,
          6,
          7,
          8
         ],
         "yaxis": "y"
        }
       ],
       "layout": {
        "barmode": "relative",
        "legend": {
         "tracegroupgap": 0
        },
        "template": {
         "data": {
          "bar": [
           {
            "error_x": {
             "color": "#f2f5fa"
            },
            "error_y": {
             "color": "#f2f5fa"
            },
            "marker": {
             "line": {
              "color": "rgb(17,17,17)",
              "width": 0.5
             }
            },
            "type": "bar"
           }
          ],
          "barpolar": [
           {
            "marker": {
             "line": {
              "color": "rgb(17,17,17)",
              "width": 0.5
             }
            },
            "type": "barpolar"
           }
          ],
          "carpet": [
           {
            "aaxis": {
             "endlinecolor": "#A2B1C6",
             "gridcolor": "#506784",
             "linecolor": "#506784",
             "minorgridcolor": "#506784",
             "startlinecolor": "#A2B1C6"
            },
            "baxis": {
             "endlinecolor": "#A2B1C6",
             "gridcolor": "#506784",
             "linecolor": "#506784",
             "minorgridcolor": "#506784",
             "startlinecolor": "#A2B1C6"
            },
            "type": "carpet"
           }
          ],
          "choropleth": [
           {
            "colorbar": {
             "outlinewidth": 0,
             "ticks": ""
            },
            "type": "choropleth"
           }
          ],
          "contour": [
           {
            "colorbar": {
             "outlinewidth": 0,
             "ticks": ""
            },
            "colorscale": [
             [
              0,
              "#0d0887"
             ],
             [
              0.1111111111111111,
              "#46039f"
             ],
             [
              0.2222222222222222,
              "#7201a8"
             ],
             [
              0.3333333333333333,
              "#9c179e"
             ],
             [
              0.4444444444444444,
              "#bd3786"
             ],
             [
              0.5555555555555556,
              "#d8576b"
             ],
             [
              0.6666666666666666,
              "#ed7953"
             ],
             [
              0.7777777777777778,
              "#fb9f3a"
             ],
             [
              0.8888888888888888,
              "#fdca26"
             ],
             [
              1,
              "#f0f921"
             ]
            ],
            "type": "contour"
           }
          ],
          "contourcarpet": [
           {
            "colorbar": {
             "outlinewidth": 0,
             "ticks": ""
            },
            "type": "contourcarpet"
           }
          ],
          "heatmap": [
           {
            "colorbar": {
             "outlinewidth": 0,
             "ticks": ""
            },
            "colorscale": [
             [
              0,
              "#0d0887"
             ],
             [
              0.1111111111111111,
              "#46039f"
             ],
             [
              0.2222222222222222,
              "#7201a8"
             ],
             [
              0.3333333333333333,
              "#9c179e"
             ],
             [
              0.4444444444444444,
              "#bd3786"
             ],
             [
              0.5555555555555556,
              "#d8576b"
             ],
             [
              0.6666666666666666,
              "#ed7953"
             ],
             [
              0.7777777777777778,
              "#fb9f3a"
             ],
             [
              0.8888888888888888,
              "#fdca26"
             ],
             [
              1,
              "#f0f921"
             ]
            ],
            "type": "heatmap"
           }
          ],
          "heatmapgl": [
           {
            "colorbar": {
             "outlinewidth": 0,
             "ticks": ""
            },
            "colorscale": [
             [
              0,
              "#0d0887"
             ],
             [
              0.1111111111111111,
              "#46039f"
             ],
             [
              0.2222222222222222,
              "#7201a8"
             ],
             [
              0.3333333333333333,
              "#9c179e"
             ],
             [
              0.4444444444444444,
              "#bd3786"
             ],
             [
              0.5555555555555556,
              "#d8576b"
             ],
             [
              0.6666666666666666,
              "#ed7953"
             ],
             [
              0.7777777777777778,
              "#fb9f3a"
             ],
             [
              0.8888888888888888,
              "#fdca26"
             ],
             [
              1,
              "#f0f921"
             ]
            ],
            "type": "heatmapgl"
           }
          ],
          "histogram": [
           {
            "marker": {
             "colorbar": {
              "outlinewidth": 0,
              "ticks": ""
             }
            },
            "type": "histogram"
           }
          ],
          "histogram2d": [
           {
            "colorbar": {
             "outlinewidth": 0,
             "ticks": ""
            },
            "colorscale": [
             [
              0,
              "#0d0887"
             ],
             [
              0.1111111111111111,
              "#46039f"
             ],
             [
              0.2222222222222222,
              "#7201a8"
             ],
             [
              0.3333333333333333,
              "#9c179e"
             ],
             [
              0.4444444444444444,
              "#bd3786"
             ],
             [
              0.5555555555555556,
              "#d8576b"
             ],
             [
              0.6666666666666666,
              "#ed7953"
             ],
             [
              0.7777777777777778,
              "#fb9f3a"
             ],
             [
              0.8888888888888888,
              "#fdca26"
             ],
             [
              1,
              "#f0f921"
             ]
            ],
            "type": "histogram2d"
           }
          ],
          "histogram2dcontour": [
           {
            "colorbar": {
             "outlinewidth": 0,
             "ticks": ""
            },
            "colorscale": [
             [
              0,
              "#0d0887"
             ],
             [
              0.1111111111111111,
              "#46039f"
             ],
             [
              0.2222222222222222,
              "#7201a8"
             ],
             [
              0.3333333333333333,
              "#9c179e"
             ],
             [
              0.4444444444444444,
              "#bd3786"
             ],
             [
              0.5555555555555556,
              "#d8576b"
             ],
             [
              0.6666666666666666,
              "#ed7953"
             ],
             [
              0.7777777777777778,
              "#fb9f3a"
             ],
             [
              0.8888888888888888,
              "#fdca26"
             ],
             [
              1,
              "#f0f921"
             ]
            ],
            "type": "histogram2dcontour"
           }
          ],
          "mesh3d": [
           {
            "colorbar": {
             "outlinewidth": 0,
             "ticks": ""
            },
            "type": "mesh3d"
           }
          ],
          "parcoords": [
           {
            "line": {
             "colorbar": {
              "outlinewidth": 0,
              "ticks": ""
             }
            },
            "type": "parcoords"
           }
          ],
          "pie": [
           {
            "automargin": true,
            "type": "pie"
           }
          ],
          "scatter": [
           {
            "marker": {
             "line": {
              "color": "#283442"
             }
            },
            "type": "scatter"
           }
          ],
          "scatter3d": [
           {
            "line": {
             "colorbar": {
              "outlinewidth": 0,
              "ticks": ""
             }
            },
            "marker": {
             "colorbar": {
              "outlinewidth": 0,
              "ticks": ""
             }
            },
            "type": "scatter3d"
           }
          ],
          "scattercarpet": [
           {
            "marker": {
             "colorbar": {
              "outlinewidth": 0,
              "ticks": ""
             }
            },
            "type": "scattercarpet"
           }
          ],
          "scattergeo": [
           {
            "marker": {
             "colorbar": {
              "outlinewidth": 0,
              "ticks": ""
             }
            },
            "type": "scattergeo"
           }
          ],
          "scattergl": [
           {
            "marker": {
             "line": {
              "color": "#283442"
             }
            },
            "type": "scattergl"
           }
          ],
          "scattermapbox": [
           {
            "marker": {
             "colorbar": {
              "outlinewidth": 0,
              "ticks": ""
             }
            },
            "type": "scattermapbox"
           }
          ],
          "scatterpolar": [
           {
            "marker": {
             "colorbar": {
              "outlinewidth": 0,
              "ticks": ""
             }
            },
            "type": "scatterpolar"
           }
          ],
          "scatterpolargl": [
           {
            "marker": {
             "colorbar": {
              "outlinewidth": 0,
              "ticks": ""
             }
            },
            "type": "scatterpolargl"
           }
          ],
          "scatterternary": [
           {
            "marker": {
             "colorbar": {
              "outlinewidth": 0,
              "ticks": ""
             }
            },
            "type": "scatterternary"
           }
          ],
          "surface": [
           {
            "colorbar": {
             "outlinewidth": 0,
             "ticks": ""
            },
            "colorscale": [
             [
              0,
              "#0d0887"
             ],
             [
              0.1111111111111111,
              "#46039f"
             ],
             [
              0.2222222222222222,
              "#7201a8"
             ],
             [
              0.3333333333333333,
              "#9c179e"
             ],
             [
              0.4444444444444444,
              "#bd3786"
             ],
             [
              0.5555555555555556,
              "#d8576b"
             ],
             [
              0.6666666666666666,
              "#ed7953"
             ],
             [
              0.7777777777777778,
              "#fb9f3a"
             ],
             [
              0.8888888888888888,
              "#fdca26"
             ],
             [
              1,
              "#f0f921"
             ]
            ],
            "type": "surface"
           }
          ],
          "table": [
           {
            "cells": {
             "fill": {
              "color": "#506784"
             },
             "line": {
              "color": "rgb(17,17,17)"
             }
            },
            "header": {
             "fill": {
              "color": "#2a3f5f"
             },
             "line": {
              "color": "rgb(17,17,17)"
             }
            },
            "type": "table"
           }
          ]
         },
         "layout": {
          "annotationdefaults": {
           "arrowcolor": "#f2f5fa",
           "arrowhead": 0,
           "arrowwidth": 1
          },
          "coloraxis": {
           "colorbar": {
            "outlinewidth": 0,
            "ticks": ""
           }
          },
          "colorscale": {
           "diverging": [
            [
             0,
             "#8e0152"
            ],
            [
             0.1,
             "#c51b7d"
            ],
            [
             0.2,
             "#de77ae"
            ],
            [
             0.3,
             "#f1b6da"
            ],
            [
             0.4,
             "#fde0ef"
            ],
            [
             0.5,
             "#f7f7f7"
            ],
            [
             0.6,
             "#e6f5d0"
            ],
            [
             0.7,
             "#b8e186"
            ],
            [
             0.8,
             "#7fbc41"
            ],
            [
             0.9,
             "#4d9221"
            ],
            [
             1,
             "#276419"
            ]
           ],
           "sequential": [
            [
             0,
             "#0d0887"
            ],
            [
             0.1111111111111111,
             "#46039f"
            ],
            [
             0.2222222222222222,
             "#7201a8"
            ],
            [
             0.3333333333333333,
             "#9c179e"
            ],
            [
             0.4444444444444444,
             "#bd3786"
            ],
            [
             0.5555555555555556,
             "#d8576b"
            ],
            [
             0.6666666666666666,
             "#ed7953"
            ],
            [
             0.7777777777777778,
             "#fb9f3a"
            ],
            [
             0.8888888888888888,
             "#fdca26"
            ],
            [
             1,
             "#f0f921"
            ]
           ],
           "sequentialminus": [
            [
             0,
             "#0d0887"
            ],
            [
             0.1111111111111111,
             "#46039f"
            ],
            [
             0.2222222222222222,
             "#7201a8"
            ],
            [
             0.3333333333333333,
             "#9c179e"
            ],
            [
             0.4444444444444444,
             "#bd3786"
            ],
            [
             0.5555555555555556,
             "#d8576b"
            ],
            [
             0.6666666666666666,
             "#ed7953"
            ],
            [
             0.7777777777777778,
             "#fb9f3a"
            ],
            [
             0.8888888888888888,
             "#fdca26"
            ],
            [
             1,
             "#f0f921"
            ]
           ]
          },
          "colorway": [
           "#636efa",
           "#EF553B",
           "#00cc96",
           "#ab63fa",
           "#FFA15A",
           "#19d3f3",
           "#FF6692",
           "#B6E880",
           "#FF97FF",
           "#FECB52"
          ],
          "font": {
           "color": "#f2f5fa"
          },
          "geo": {
           "bgcolor": "rgb(17,17,17)",
           "lakecolor": "rgb(17,17,17)",
           "landcolor": "rgb(17,17,17)",
           "showlakes": true,
           "showland": true,
           "subunitcolor": "#506784"
          },
          "hoverlabel": {
           "align": "left"
          },
          "hovermode": "closest",
          "mapbox": {
           "style": "dark"
          },
          "paper_bgcolor": "rgb(17,17,17)",
          "plot_bgcolor": "rgb(17,17,17)",
          "polar": {
           "angularaxis": {
            "gridcolor": "#506784",
            "linecolor": "#506784",
            "ticks": ""
           },
           "bgcolor": "rgb(17,17,17)",
           "radialaxis": {
            "gridcolor": "#506784",
            "linecolor": "#506784",
            "ticks": ""
           }
          },
          "scene": {
           "xaxis": {
            "backgroundcolor": "rgb(17,17,17)",
            "gridcolor": "#506784",
            "gridwidth": 2,
            "linecolor": "#506784",
            "showbackground": true,
            "ticks": "",
            "zerolinecolor": "#C8D4E3"
           },
           "yaxis": {
            "backgroundcolor": "rgb(17,17,17)",
            "gridcolor": "#506784",
            "gridwidth": 2,
            "linecolor": "#506784",
            "showbackground": true,
            "ticks": "",
            "zerolinecolor": "#C8D4E3"
           },
           "zaxis": {
            "backgroundcolor": "rgb(17,17,17)",
            "gridcolor": "#506784",
            "gridwidth": 2,
            "linecolor": "#506784",
            "showbackground": true,
            "ticks": "",
            "zerolinecolor": "#C8D4E3"
           }
          },
          "shapedefaults": {
           "line": {
            "color": "#f2f5fa"
           }
          },
          "sliderdefaults": {
           "bgcolor": "#C8D4E3",
           "bordercolor": "rgb(17,17,17)",
           "borderwidth": 1,
           "tickwidth": 0
          },
          "ternary": {
           "aaxis": {
            "gridcolor": "#506784",
            "linecolor": "#506784",
            "ticks": ""
           },
           "baxis": {
            "gridcolor": "#506784",
            "linecolor": "#506784",
            "ticks": ""
           },
           "bgcolor": "rgb(17,17,17)",
           "caxis": {
            "gridcolor": "#506784",
            "linecolor": "#506784",
            "ticks": ""
           }
          },
          "title": {
           "x": 0.05
          },
          "updatemenudefaults": {
           "bgcolor": "#506784",
           "borderwidth": 0
          },
          "xaxis": {
           "automargin": true,
           "gridcolor": "#283442",
           "linecolor": "#506784",
           "ticks": "",
           "title": {
            "standoff": 15
           },
           "zerolinecolor": "#283442",
           "zerolinewidth": 2
          },
          "yaxis": {
           "automargin": true,
           "gridcolor": "#283442",
           "linecolor": "#506784",
           "ticks": "",
           "title": {
            "standoff": 15
           },
           "zerolinecolor": "#283442",
           "zerolinewidth": 2
          }
         }
        },
        "title": {
         "text": "Who is Making All These Policies?"
        },
        "xaxis": {
         "anchor": "y",
         "domain": [
          0,
          1
         ],
         "title": {
          "text": "Employee"
         }
        },
        "yaxis": {
         "anchor": "x",
         "domain": [
          0,
          1
         ],
         "title": {
          "text": "Count"
         }
        }
       }
      },
      "text/html": [
       "<div>\n",
       "        \n",
       "        \n",
       "            <div id=\"4a3c727f-7378-4d70-87c6-6fe6a2fc03c9\" class=\"plotly-graph-div\" style=\"height:525px; width:100%;\"></div>\n",
       "            <script type=\"text/javascript\">\n",
       "                require([\"plotly\"], function(Plotly) {\n",
       "                    window.PLOTLYENV=window.PLOTLYENV || {};\n",
       "                    \n",
       "                if (document.getElementById(\"4a3c727f-7378-4d70-87c6-6fe6a2fc03c9\")) {\n",
       "                    Plotly.newPlot(\n",
       "                        '4a3c727f-7378-4d70-87c6-6fe6a2fc03c9',\n",
       "                        [{\"alignmentgroup\": \"True\", \"hoverlabel\": {\"namelength\": 0}, \"hovertemplate\": \"acting_user=%{x}<br>action=%{y}\", \"legendgroup\": \"\", \"marker\": {\"color\": \"#636efa\"}, \"name\": \"\", \"offsetgroup\": \"\", \"orientation\": \"v\", \"showlegend\": false, \"textposition\": \"auto\", \"type\": \"bar\", \"x\": [\"ben\", \"bob\", \"redd\", \"tyler\"], \"xaxis\": \"x\", \"y\": [3, 6, 7, 8], \"yaxis\": \"y\"}],\n",
       "                        {\"barmode\": \"relative\", \"legend\": {\"tracegroupgap\": 0}, \"template\": {\"data\": {\"bar\": [{\"error_x\": {\"color\": \"#f2f5fa\"}, \"error_y\": {\"color\": \"#f2f5fa\"}, \"marker\": {\"line\": {\"color\": \"rgb(17,17,17)\", \"width\": 0.5}}, \"type\": \"bar\"}], \"barpolar\": [{\"marker\": {\"line\": {\"color\": \"rgb(17,17,17)\", \"width\": 0.5}}, \"type\": \"barpolar\"}], \"carpet\": [{\"aaxis\": {\"endlinecolor\": \"#A2B1C6\", \"gridcolor\": \"#506784\", \"linecolor\": \"#506784\", \"minorgridcolor\": \"#506784\", \"startlinecolor\": \"#A2B1C6\"}, \"baxis\": {\"endlinecolor\": \"#A2B1C6\", \"gridcolor\": \"#506784\", \"linecolor\": \"#506784\", \"minorgridcolor\": \"#506784\", \"startlinecolor\": \"#A2B1C6\"}, \"type\": \"carpet\"}], \"choropleth\": [{\"colorbar\": {\"outlinewidth\": 0, \"ticks\": \"\"}, \"type\": \"choropleth\"}], \"contour\": [{\"colorbar\": {\"outlinewidth\": 0, \"ticks\": \"\"}, \"colorscale\": [[0.0, \"#0d0887\"], [0.1111111111111111, \"#46039f\"], [0.2222222222222222, \"#7201a8\"], [0.3333333333333333, \"#9c179e\"], [0.4444444444444444, \"#bd3786\"], [0.5555555555555556, \"#d8576b\"], [0.6666666666666666, \"#ed7953\"], [0.7777777777777778, \"#fb9f3a\"], [0.8888888888888888, \"#fdca26\"], [1.0, \"#f0f921\"]], \"type\": \"contour\"}], \"contourcarpet\": [{\"colorbar\": {\"outlinewidth\": 0, \"ticks\": \"\"}, \"type\": \"contourcarpet\"}], \"heatmap\": [{\"colorbar\": {\"outlinewidth\": 0, \"ticks\": \"\"}, \"colorscale\": [[0.0, \"#0d0887\"], [0.1111111111111111, \"#46039f\"], [0.2222222222222222, \"#7201a8\"], [0.3333333333333333, \"#9c179e\"], [0.4444444444444444, \"#bd3786\"], [0.5555555555555556, \"#d8576b\"], [0.6666666666666666, \"#ed7953\"], [0.7777777777777778, \"#fb9f3a\"], [0.8888888888888888, \"#fdca26\"], [1.0, \"#f0f921\"]], \"type\": \"heatmap\"}], \"heatmapgl\": [{\"colorbar\": {\"outlinewidth\": 0, \"ticks\": \"\"}, \"colorscale\": [[0.0, \"#0d0887\"], [0.1111111111111111, \"#46039f\"], [0.2222222222222222, \"#7201a8\"], [0.3333333333333333, \"#9c179e\"], [0.4444444444444444, \"#bd3786\"], [0.5555555555555556, \"#d8576b\"], [0.6666666666666666, \"#ed7953\"], [0.7777777777777778, \"#fb9f3a\"], [0.8888888888888888, \"#fdca26\"], [1.0, \"#f0f921\"]], \"type\": \"heatmapgl\"}], \"histogram\": [{\"marker\": {\"colorbar\": {\"outlinewidth\": 0, \"ticks\": \"\"}}, \"type\": \"histogram\"}], \"histogram2d\": [{\"colorbar\": {\"outlinewidth\": 0, \"ticks\": \"\"}, \"colorscale\": [[0.0, \"#0d0887\"], [0.1111111111111111, \"#46039f\"], [0.2222222222222222, \"#7201a8\"], [0.3333333333333333, \"#9c179e\"], [0.4444444444444444, \"#bd3786\"], [0.5555555555555556, \"#d8576b\"], [0.6666666666666666, \"#ed7953\"], [0.7777777777777778, \"#fb9f3a\"], [0.8888888888888888, \"#fdca26\"], [1.0, \"#f0f921\"]], \"type\": \"histogram2d\"}], \"histogram2dcontour\": [{\"colorbar\": {\"outlinewidth\": 0, \"ticks\": \"\"}, \"colorscale\": [[0.0, \"#0d0887\"], [0.1111111111111111, \"#46039f\"], [0.2222222222222222, \"#7201a8\"], [0.3333333333333333, \"#9c179e\"], [0.4444444444444444, \"#bd3786\"], [0.5555555555555556, \"#d8576b\"], [0.6666666666666666, \"#ed7953\"], [0.7777777777777778, \"#fb9f3a\"], [0.8888888888888888, \"#fdca26\"], [1.0, \"#f0f921\"]], \"type\": \"histogram2dcontour\"}], \"mesh3d\": [{\"colorbar\": {\"outlinewidth\": 0, \"ticks\": \"\"}, \"type\": \"mesh3d\"}], \"parcoords\": [{\"line\": {\"colorbar\": {\"outlinewidth\": 0, \"ticks\": \"\"}}, \"type\": \"parcoords\"}], \"pie\": [{\"automargin\": true, \"type\": \"pie\"}], \"scatter\": [{\"marker\": {\"line\": {\"color\": \"#283442\"}}, \"type\": \"scatter\"}], \"scatter3d\": [{\"line\": {\"colorbar\": {\"outlinewidth\": 0, \"ticks\": \"\"}}, \"marker\": {\"colorbar\": {\"outlinewidth\": 0, \"ticks\": \"\"}}, \"type\": \"scatter3d\"}], \"scattercarpet\": [{\"marker\": {\"colorbar\": {\"outlinewidth\": 0, \"ticks\": \"\"}}, \"type\": \"scattercarpet\"}], \"scattergeo\": [{\"marker\": {\"colorbar\": {\"outlinewidth\": 0, \"ticks\": \"\"}}, \"type\": \"scattergeo\"}], \"scattergl\": [{\"marker\": {\"line\": {\"color\": \"#283442\"}}, \"type\": \"scattergl\"}], \"scattermapbox\": [{\"marker\": {\"colorbar\": {\"outlinewidth\": 0, \"ticks\": \"\"}}, \"type\": \"scattermapbox\"}], \"scatterpolar\": [{\"marker\": {\"colorbar\": {\"outlinewidth\": 0, \"ticks\": \"\"}}, \"type\": \"scatterpolar\"}], \"scatterpolargl\": [{\"marker\": {\"colorbar\": {\"outlinewidth\": 0, \"ticks\": \"\"}}, \"type\": \"scatterpolargl\"}], \"scatterternary\": [{\"marker\": {\"colorbar\": {\"outlinewidth\": 0, \"ticks\": \"\"}}, \"type\": \"scatterternary\"}], \"surface\": [{\"colorbar\": {\"outlinewidth\": 0, \"ticks\": \"\"}, \"colorscale\": [[0.0, \"#0d0887\"], [0.1111111111111111, \"#46039f\"], [0.2222222222222222, \"#7201a8\"], [0.3333333333333333, \"#9c179e\"], [0.4444444444444444, \"#bd3786\"], [0.5555555555555556, \"#d8576b\"], [0.6666666666666666, \"#ed7953\"], [0.7777777777777778, \"#fb9f3a\"], [0.8888888888888888, \"#fdca26\"], [1.0, \"#f0f921\"]], \"type\": \"surface\"}], \"table\": [{\"cells\": {\"fill\": {\"color\": \"#506784\"}, \"line\": {\"color\": \"rgb(17,17,17)\"}}, \"header\": {\"fill\": {\"color\": \"#2a3f5f\"}, \"line\": {\"color\": \"rgb(17,17,17)\"}}, \"type\": \"table\"}]}, \"layout\": {\"annotationdefaults\": {\"arrowcolor\": \"#f2f5fa\", \"arrowhead\": 0, \"arrowwidth\": 1}, \"coloraxis\": {\"colorbar\": {\"outlinewidth\": 0, \"ticks\": \"\"}}, \"colorscale\": {\"diverging\": [[0, \"#8e0152\"], [0.1, \"#c51b7d\"], [0.2, \"#de77ae\"], [0.3, \"#f1b6da\"], [0.4, \"#fde0ef\"], [0.5, \"#f7f7f7\"], [0.6, \"#e6f5d0\"], [0.7, \"#b8e186\"], [0.8, \"#7fbc41\"], [0.9, \"#4d9221\"], [1, \"#276419\"]], \"sequential\": [[0.0, \"#0d0887\"], [0.1111111111111111, \"#46039f\"], [0.2222222222222222, \"#7201a8\"], [0.3333333333333333, \"#9c179e\"], [0.4444444444444444, \"#bd3786\"], [0.5555555555555556, \"#d8576b\"], [0.6666666666666666, \"#ed7953\"], [0.7777777777777778, \"#fb9f3a\"], [0.8888888888888888, \"#fdca26\"], [1.0, \"#f0f921\"]], \"sequentialminus\": [[0.0, \"#0d0887\"], [0.1111111111111111, \"#46039f\"], [0.2222222222222222, \"#7201a8\"], [0.3333333333333333, \"#9c179e\"], [0.4444444444444444, \"#bd3786\"], [0.5555555555555556, \"#d8576b\"], [0.6666666666666666, \"#ed7953\"], [0.7777777777777778, \"#fb9f3a\"], [0.8888888888888888, \"#fdca26\"], [1.0, \"#f0f921\"]]}, \"colorway\": [\"#636efa\", \"#EF553B\", \"#00cc96\", \"#ab63fa\", \"#FFA15A\", \"#19d3f3\", \"#FF6692\", \"#B6E880\", \"#FF97FF\", \"#FECB52\"], \"font\": {\"color\": \"#f2f5fa\"}, \"geo\": {\"bgcolor\": \"rgb(17,17,17)\", \"lakecolor\": \"rgb(17,17,17)\", \"landcolor\": \"rgb(17,17,17)\", \"showlakes\": true, \"showland\": true, \"subunitcolor\": \"#506784\"}, \"hoverlabel\": {\"align\": \"left\"}, \"hovermode\": \"closest\", \"mapbox\": {\"style\": \"dark\"}, \"paper_bgcolor\": \"rgb(17,17,17)\", \"plot_bgcolor\": \"rgb(17,17,17)\", \"polar\": {\"angularaxis\": {\"gridcolor\": \"#506784\", \"linecolor\": \"#506784\", \"ticks\": \"\"}, \"bgcolor\": \"rgb(17,17,17)\", \"radialaxis\": {\"gridcolor\": \"#506784\", \"linecolor\": \"#506784\", \"ticks\": \"\"}}, \"scene\": {\"xaxis\": {\"backgroundcolor\": \"rgb(17,17,17)\", \"gridcolor\": \"#506784\", \"gridwidth\": 2, \"linecolor\": \"#506784\", \"showbackground\": true, \"ticks\": \"\", \"zerolinecolor\": \"#C8D4E3\"}, \"yaxis\": {\"backgroundcolor\": \"rgb(17,17,17)\", \"gridcolor\": \"#506784\", \"gridwidth\": 2, \"linecolor\": \"#506784\", \"showbackground\": true, \"ticks\": \"\", \"zerolinecolor\": \"#C8D4E3\"}, \"zaxis\": {\"backgroundcolor\": \"rgb(17,17,17)\", \"gridcolor\": \"#506784\", \"gridwidth\": 2, \"linecolor\": \"#506784\", \"showbackground\": true, \"ticks\": \"\", \"zerolinecolor\": \"#C8D4E3\"}}, \"shapedefaults\": {\"line\": {\"color\": \"#f2f5fa\"}}, \"sliderdefaults\": {\"bgcolor\": \"#C8D4E3\", \"bordercolor\": \"rgb(17,17,17)\", \"borderwidth\": 1, \"tickwidth\": 0}, \"ternary\": {\"aaxis\": {\"gridcolor\": \"#506784\", \"linecolor\": \"#506784\", \"ticks\": \"\"}, \"baxis\": {\"gridcolor\": \"#506784\", \"linecolor\": \"#506784\", \"ticks\": \"\"}, \"bgcolor\": \"rgb(17,17,17)\", \"caxis\": {\"gridcolor\": \"#506784\", \"linecolor\": \"#506784\", \"ticks\": \"\"}}, \"title\": {\"x\": 0.05}, \"updatemenudefaults\": {\"bgcolor\": \"#506784\", \"borderwidth\": 0}, \"xaxis\": {\"automargin\": true, \"gridcolor\": \"#283442\", \"linecolor\": \"#506784\", \"ticks\": \"\", \"title\": {\"standoff\": 15}, \"zerolinecolor\": \"#283442\", \"zerolinewidth\": 2}, \"yaxis\": {\"automargin\": true, \"gridcolor\": \"#283442\", \"linecolor\": \"#506784\", \"ticks\": \"\", \"title\": {\"standoff\": 15}, \"zerolinecolor\": \"#283442\", \"zerolinewidth\": 2}}}, \"title\": {\"text\": \"Who is Making All These Policies?\"}, \"xaxis\": {\"anchor\": \"y\", \"domain\": [0.0, 1.0], \"title\": {\"text\": \"Employee\"}}, \"yaxis\": {\"anchor\": \"x\", \"domain\": [0.0, 1.0], \"title\": {\"text\": \"Count\"}}},\n",
       "                        {\"responsive\": true}\n",
       "                    ).then(function(){\n",
       "                            \n",
       "var gd = document.getElementById('4a3c727f-7378-4d70-87c6-6fe6a2fc03c9');\n",
       "var x = new MutationObserver(function (mutations, observer) {{\n",
       "        var display = window.getComputedStyle(gd).display;\n",
       "        if (!display || display === 'none') {{\n",
       "            console.log([gd, 'removed!']);\n",
       "            Plotly.purge(gd);\n",
       "            observer.disconnect();\n",
       "        }}\n",
       "}});\n",
       "\n",
       "// Listen for the removal of the full notebook cells\n",
       "var notebookContainer = gd.closest('#notebook-container');\n",
       "if (notebookContainer) {{\n",
       "    x.observe(notebookContainer, {childList: true});\n",
       "}}\n",
       "\n",
       "// Listen for the clearing of the current output cell\n",
       "var outputEl = gd.closest('.output');\n",
       "if (outputEl) {{\n",
       "    x.observe(outputEl, {childList: true});\n",
       "}}\n",
       "\n",
       "                        })\n",
       "                };\n",
       "                });\n",
       "            </script>\n",
       "        </div>"
      ]
     },
     "metadata": {},
     "output_type": "display_data"
    }
   ],
   "source": [
    "log_df_by_count = log_df.groupby('acting_user').count()\n",
    "log_df_by_count.reset_index(inplace=True)\n",
    "new_df = log_df_by_count[['acting_user', 'action']]\n",
    "new_df.set_index(\"acting_user\", inplace= True)\n",
    "new_df.head()\n",
    "\n",
    "\n",
    "fig = px.bar(log_df_by_count, \n",
    "             x='acting_user',            \n",
    "             y='action',\n",
    "             template='plotly_dark',\n",
    "             title='Who is Making All These Policies?')\n",
    "\n",
    "fig.update_yaxes(title_text='Count')\n",
    "fig.update_xaxes(title_text='Employee')\n",
    "fig.show()\n"
   ]
  },
  {
   "cell_type": "markdown",
   "metadata": {},
   "source": [
    "### Display the columns that may have errors"
   ]
  },
  {
   "cell_type": "code",
   "execution_count": 146,
   "metadata": {},
   "outputs": [
    {
     "data": {
      "text/plain": [
       "acting_user        1\n",
       "target_type        2\n",
       "target_resource    2\n",
       "target_user        1\n",
       "dtype: int64"
      ]
     },
     "execution_count": 146,
     "metadata": {},
     "output_type": "execute_result"
    }
   ],
   "source": [
    "null_columns = log_df.columns[log_df.isnull().any()]\n",
    "log_df[null_columns].isnull().sum()"
   ]
  },
  {
   "cell_type": "markdown",
   "metadata": {},
   "source": [
    "### Show the actual rows containing a null value"
   ]
  },
  {
   "cell_type": "code",
   "execution_count": 147,
   "metadata": {},
   "outputs": [
    {
     "data": {
      "text/html": [
       "<div>\n",
       "<style scoped>\n",
       "    .dataframe tbody tr th:only-of-type {\n",
       "        vertical-align: middle;\n",
       "    }\n",
       "\n",
       "    .dataframe tbody tr th {\n",
       "        vertical-align: top;\n",
       "    }\n",
       "\n",
       "    .dataframe thead th {\n",
       "        text-align: right;\n",
       "    }\n",
       "</style>\n",
       "<table border=\"1\" class=\"dataframe\">\n",
       "  <thead>\n",
       "    <tr style=\"text-align: right;\">\n",
       "      <th></th>\n",
       "      <th>rule_id</th>\n",
       "      <th>acting_user</th>\n",
       "      <th>action</th>\n",
       "      <th>target_type</th>\n",
       "      <th>target_resource</th>\n",
       "      <th>target_user</th>\n",
       "      <th>has_conditional</th>\n",
       "      <th>date</th>\n",
       "      <th>time</th>\n",
       "      <th>raw</th>\n",
       "    </tr>\n",
       "  </thead>\n",
       "  <tbody>\n",
       "    <tr>\n",
       "      <th>0</th>\n",
       "      <td>128</td>\n",
       "      <td>ben</td>\n",
       "      <td>read</td>\n",
       "      <td>NaN</td>\n",
       "      <td>NaN</td>\n",
       "      <td>tyler</td>\n",
       "      <td>1</td>\n",
       "      <td>10/13/20</td>\n",
       "      <td>19:10:06</td>\n",
       "      <td>Ben can read my documents on weekdays after 17:00</td>\n",
       "    </tr>\n",
       "    <tr>\n",
       "      <th>2</th>\n",
       "      <td>130</td>\n",
       "      <td>NaN</td>\n",
       "      <td>edit</td>\n",
       "      <td>case</td>\n",
       "      <td>txt</td>\n",
       "      <td>bob</td>\n",
       "      <td>1</td>\n",
       "      <td>10/13/20</td>\n",
       "      <td>19:11:04</td>\n",
       "      <td>I can edit bob's txt files on fridays</td>\n",
       "    </tr>\n",
       "    <tr>\n",
       "      <th>3</th>\n",
       "      <td>131</td>\n",
       "      <td>bob</td>\n",
       "      <td>edit</td>\n",
       "      <td>case</td>\n",
       "      <td>txt</td>\n",
       "      <td>NaN</td>\n",
       "      <td>0</td>\n",
       "      <td>10/13/20</td>\n",
       "      <td>19:12:38</td>\n",
       "      <td>Bob can access the txt files that are mine</td>\n",
       "    </tr>\n",
       "    <tr>\n",
       "      <th>8</th>\n",
       "      <td>136</td>\n",
       "      <td>tyler</td>\n",
       "      <td>edit</td>\n",
       "      <td>NaN</td>\n",
       "      <td>NaN</td>\n",
       "      <td>tyler</td>\n",
       "      <td>1</td>\n",
       "      <td>10/13/20</td>\n",
       "      <td>19:25:25</td>\n",
       "      <td>I want bob to access my files on thursdays and...</td>\n",
       "    </tr>\n",
       "  </tbody>\n",
       "</table>\n",
       "</div>"
      ],
      "text/plain": [
       "   rule_id acting_user action target_type target_resource target_user  \\\n",
       "0      128         ben   read         NaN             NaN       tyler   \n",
       "2      130         NaN   edit        case             txt         bob   \n",
       "3      131         bob   edit        case             txt         NaN   \n",
       "8      136       tyler   edit         NaN             NaN       tyler   \n",
       "\n",
       "   has_conditional      date      time  \\\n",
       "0                1  10/13/20  19:10:06   \n",
       "2                1  10/13/20  19:11:04   \n",
       "3                0  10/13/20  19:12:38   \n",
       "8                1  10/13/20  19:25:25   \n",
       "\n",
       "                                                 raw  \n",
       "0  Ben can read my documents on weekdays after 17:00  \n",
       "2              I can edit bob's txt files on fridays  \n",
       "3         Bob can access the txt files that are mine  \n",
       "8  I want bob to access my files on thursdays and...  "
      ]
     },
     "execution_count": 147,
     "metadata": {},
     "output_type": "execute_result"
    }
   ],
   "source": [
    "null_df = log_df[log_df.isnull().any(axis=1)]\n",
    "null_df.head()\n",
    "#new.set_index(\"id\", inplace= True)\n"
   ]
  },
  {
   "cell_type": "markdown",
   "metadata": {},
   "source": [
    "### Show functioning rows"
   ]
  },
  {
   "cell_type": "code",
   "execution_count": 148,
   "metadata": {},
   "outputs": [
    {
     "data": {
      "text/html": [
       "<div>\n",
       "<style scoped>\n",
       "    .dataframe tbody tr th:only-of-type {\n",
       "        vertical-align: middle;\n",
       "    }\n",
       "\n",
       "    .dataframe tbody tr th {\n",
       "        vertical-align: top;\n",
       "    }\n",
       "\n",
       "    .dataframe thead th {\n",
       "        text-align: right;\n",
       "    }\n",
       "</style>\n",
       "<table border=\"1\" class=\"dataframe\">\n",
       "  <thead>\n",
       "    <tr style=\"text-align: right;\">\n",
       "      <th></th>\n",
       "      <th>rule_id</th>\n",
       "      <th>acting_user</th>\n",
       "      <th>action</th>\n",
       "      <th>target_type</th>\n",
       "      <th>target_resource</th>\n",
       "      <th>target_user</th>\n",
       "      <th>has_conditional</th>\n",
       "      <th>date</th>\n",
       "      <th>time</th>\n",
       "      <th>raw</th>\n",
       "    </tr>\n",
       "  </thead>\n",
       "  <tbody>\n",
       "    <tr>\n",
       "      <th>1</th>\n",
       "      <td>129</td>\n",
       "      <td>bob</td>\n",
       "      <td>-edit</td>\n",
       "      <td>case</td>\n",
       "      <td>txt</td>\n",
       "      <td>tyler</td>\n",
       "      <td>0</td>\n",
       "      <td>10/13/20</td>\n",
       "      <td>19:10:32</td>\n",
       "      <td>Bob can't access my txt files</td>\n",
       "    </tr>\n",
       "    <tr>\n",
       "      <th>4</th>\n",
       "      <td>132</td>\n",
       "      <td>tyler</td>\n",
       "      <td>edit</td>\n",
       "      <td>case</td>\n",
       "      <td>txt</td>\n",
       "      <td>bob</td>\n",
       "      <td>0</td>\n",
       "      <td>10/13/20</td>\n",
       "      <td>19:15:20</td>\n",
       "      <td>I can edit bob's txt files</td>\n",
       "    </tr>\n",
       "    <tr>\n",
       "      <th>5</th>\n",
       "      <td>133</td>\n",
       "      <td>tyler</td>\n",
       "      <td>-edit</td>\n",
       "      <td>case</td>\n",
       "      <td>txt</td>\n",
       "      <td>bob</td>\n",
       "      <td>0</td>\n",
       "      <td>10/13/20</td>\n",
       "      <td>19:16:25</td>\n",
       "      <td>I can't access bob's txt file</td>\n",
       "    </tr>\n",
       "    <tr>\n",
       "      <th>6</th>\n",
       "      <td>134</td>\n",
       "      <td>tyler</td>\n",
       "      <td>edit</td>\n",
       "      <td>case</td>\n",
       "      <td>txt</td>\n",
       "      <td>bob</td>\n",
       "      <td>1</td>\n",
       "      <td>10/13/20</td>\n",
       "      <td>19:16:54</td>\n",
       "      <td>Can I access bob's txt file on wednesdays?</td>\n",
       "    </tr>\n",
       "    <tr>\n",
       "      <th>7</th>\n",
       "      <td>135</td>\n",
       "      <td>tyler</td>\n",
       "      <td>edit</td>\n",
       "      <td>case</td>\n",
       "      <td>txt</td>\n",
       "      <td>bob</td>\n",
       "      <td>1</td>\n",
       "      <td>10/13/20</td>\n",
       "      <td>19:17:25</td>\n",
       "      <td>I want to access bob's txt files on mondays</td>\n",
       "    </tr>\n",
       "    <tr>\n",
       "      <th>9</th>\n",
       "      <td>137</td>\n",
       "      <td>ben</td>\n",
       "      <td>read</td>\n",
       "      <td>case</td>\n",
       "      <td>txt</td>\n",
       "      <td>tyler</td>\n",
       "      <td>1</td>\n",
       "      <td>10/13/20</td>\n",
       "      <td>19:32:13</td>\n",
       "      <td>Ben can read my txt files on weekdays</td>\n",
       "    </tr>\n",
       "    <tr>\n",
       "      <th>10</th>\n",
       "      <td>138</td>\n",
       "      <td>ben</td>\n",
       "      <td>read</td>\n",
       "      <td>case</td>\n",
       "      <td>txt</td>\n",
       "      <td>tyler</td>\n",
       "      <td>1</td>\n",
       "      <td>10/13/20</td>\n",
       "      <td>19:32:57</td>\n",
       "      <td>Ben can read my txt files on weekdays and satu...</td>\n",
       "    </tr>\n",
       "    <tr>\n",
       "      <th>11</th>\n",
       "      <td>139</td>\n",
       "      <td>tyler</td>\n",
       "      <td>edit</td>\n",
       "      <td>case</td>\n",
       "      <td>txt</td>\n",
       "      <td>tyler</td>\n",
       "      <td>1</td>\n",
       "      <td>10/13/20</td>\n",
       "      <td>19:40:51</td>\n",
       "      <td>I want bob to access my txt files on thursdays...</td>\n",
       "    </tr>\n",
       "    <tr>\n",
       "      <th>12</th>\n",
       "      <td>140</td>\n",
       "      <td>bob</td>\n",
       "      <td>edit</td>\n",
       "      <td>case</td>\n",
       "      <td>txt</td>\n",
       "      <td>tyler</td>\n",
       "      <td>1</td>\n",
       "      <td>10/13/20</td>\n",
       "      <td>19:43:44</td>\n",
       "      <td>I want bob to access my txt files on thursdays...</td>\n",
       "    </tr>\n",
       "    <tr>\n",
       "      <th>13</th>\n",
       "      <td>141</td>\n",
       "      <td>tyler</td>\n",
       "      <td>edit</td>\n",
       "      <td>case</td>\n",
       "      <td>txt</td>\n",
       "      <td>bob</td>\n",
       "      <td>0</td>\n",
       "      <td>10/13/20</td>\n",
       "      <td>19:44:28</td>\n",
       "      <td>I can access bob's txt files</td>\n",
       "    </tr>\n",
       "    <tr>\n",
       "      <th>14</th>\n",
       "      <td>142</td>\n",
       "      <td>tyler</td>\n",
       "      <td>edit</td>\n",
       "      <td>case</td>\n",
       "      <td>txt</td>\n",
       "      <td>bob</td>\n",
       "      <td>0</td>\n",
       "      <td>10/13/20</td>\n",
       "      <td>19:45:18</td>\n",
       "      <td>I want to access bob's txt files</td>\n",
       "    </tr>\n",
       "    <tr>\n",
       "      <th>15</th>\n",
       "      <td>143</td>\n",
       "      <td>bob</td>\n",
       "      <td>edit</td>\n",
       "      <td>case</td>\n",
       "      <td>txt</td>\n",
       "      <td>ben</td>\n",
       "      <td>0</td>\n",
       "      <td>10/13/20</td>\n",
       "      <td>19:45:36</td>\n",
       "      <td>Bob can access ben's txt files</td>\n",
       "    </tr>\n",
       "    <tr>\n",
       "      <th>16</th>\n",
       "      <td>144</td>\n",
       "      <td>bob</td>\n",
       "      <td>-read</td>\n",
       "      <td>case</td>\n",
       "      <td>txt</td>\n",
       "      <td>tyler</td>\n",
       "      <td>0</td>\n",
       "      <td>10/13/20</td>\n",
       "      <td>19:55:51</td>\n",
       "      <td>Bob can't read my txt files</td>\n",
       "    </tr>\n",
       "    <tr>\n",
       "      <th>17</th>\n",
       "      <td>145</td>\n",
       "      <td>bob</td>\n",
       "      <td>edit</td>\n",
       "      <td>case</td>\n",
       "      <td>txt</td>\n",
       "      <td>tyler</td>\n",
       "      <td>0</td>\n",
       "      <td>11/12/20</td>\n",
       "      <td>20:47:38</td>\n",
       "      <td>Bob can access my txt files</td>\n",
       "    </tr>\n",
       "    <tr>\n",
       "      <th>18</th>\n",
       "      <td>146</td>\n",
       "      <td>redd</td>\n",
       "      <td>edit</td>\n",
       "      <td>case</td>\n",
       "      <td>txt</td>\n",
       "      <td>bob</td>\n",
       "      <td>0</td>\n",
       "      <td>11/12/20</td>\n",
       "      <td>20:50:38</td>\n",
       "      <td>Redd can access Bob's txt files</td>\n",
       "    </tr>\n",
       "    <tr>\n",
       "      <th>19</th>\n",
       "      <td>147</td>\n",
       "      <td>redd</td>\n",
       "      <td>-edit</td>\n",
       "      <td>case</td>\n",
       "      <td>txt</td>\n",
       "      <td>bob</td>\n",
       "      <td>0</td>\n",
       "      <td>11/12/20</td>\n",
       "      <td>20:50:39</td>\n",
       "      <td>Redd can't access Bob's txt files</td>\n",
       "    </tr>\n",
       "    <tr>\n",
       "      <th>20</th>\n",
       "      <td>148</td>\n",
       "      <td>redd</td>\n",
       "      <td>edit</td>\n",
       "      <td>case</td>\n",
       "      <td>txt</td>\n",
       "      <td>bob</td>\n",
       "      <td>0</td>\n",
       "      <td>11/12/20</td>\n",
       "      <td>20:50:40</td>\n",
       "      <td>Redd is allowed access to Bob's txt files</td>\n",
       "    </tr>\n",
       "    <tr>\n",
       "      <th>21</th>\n",
       "      <td>149</td>\n",
       "      <td>redd</td>\n",
       "      <td>edit</td>\n",
       "      <td>case</td>\n",
       "      <td>txt</td>\n",
       "      <td>bob</td>\n",
       "      <td>0</td>\n",
       "      <td>11/12/20</td>\n",
       "      <td>20:50:41</td>\n",
       "      <td>Redd can modify Bob's txt files</td>\n",
       "    </tr>\n",
       "    <tr>\n",
       "      <th>22</th>\n",
       "      <td>150</td>\n",
       "      <td>redd</td>\n",
       "      <td>edit</td>\n",
       "      <td>case</td>\n",
       "      <td>txt</td>\n",
       "      <td>bob</td>\n",
       "      <td>0</td>\n",
       "      <td>11/12/20</td>\n",
       "      <td>20:50:42</td>\n",
       "      <td>Redd can edit Bob's txt files</td>\n",
       "    </tr>\n",
       "    <tr>\n",
       "      <th>23</th>\n",
       "      <td>151</td>\n",
       "      <td>redd</td>\n",
       "      <td>edit</td>\n",
       "      <td>case</td>\n",
       "      <td>txt</td>\n",
       "      <td>bob</td>\n",
       "      <td>0</td>\n",
       "      <td>11/12/20</td>\n",
       "      <td>20:50:43</td>\n",
       "      <td>Redd can change Bob's txt files</td>\n",
       "    </tr>\n",
       "    <tr>\n",
       "      <th>24</th>\n",
       "      <td>152</td>\n",
       "      <td>redd</td>\n",
       "      <td>-edit</td>\n",
       "      <td>case</td>\n",
       "      <td>txt</td>\n",
       "      <td>bob</td>\n",
       "      <td>0</td>\n",
       "      <td>11/23/20</td>\n",
       "      <td>22:17:01</td>\n",
       "      <td>Redd can't access bob's txt files</td>\n",
       "    </tr>\n",
       "  </tbody>\n",
       "</table>\n",
       "</div>"
      ],
      "text/plain": [
       "    rule_id acting_user action target_type target_resource target_user  \\\n",
       "1       129         bob  -edit        case             txt       tyler   \n",
       "4       132       tyler   edit        case             txt         bob   \n",
       "5       133       tyler  -edit        case             txt         bob   \n",
       "6       134       tyler   edit        case             txt         bob   \n",
       "7       135       tyler   edit        case             txt         bob   \n",
       "9       137         ben   read        case             txt       tyler   \n",
       "10      138         ben   read        case             txt       tyler   \n",
       "11      139       tyler   edit        case             txt       tyler   \n",
       "12      140         bob   edit        case             txt       tyler   \n",
       "13      141       tyler   edit        case             txt         bob   \n",
       "14      142       tyler   edit        case             txt         bob   \n",
       "15      143         bob   edit        case             txt         ben   \n",
       "16      144         bob  -read        case             txt       tyler   \n",
       "17      145         bob   edit        case             txt       tyler   \n",
       "18      146        redd   edit        case             txt         bob   \n",
       "19      147        redd  -edit        case             txt         bob   \n",
       "20      148        redd   edit        case             txt         bob   \n",
       "21      149        redd   edit        case             txt         bob   \n",
       "22      150        redd   edit        case             txt         bob   \n",
       "23      151        redd   edit        case             txt         bob   \n",
       "24      152        redd  -edit        case             txt         bob   \n",
       "\n",
       "    has_conditional      date      time  \\\n",
       "1                 0  10/13/20  19:10:32   \n",
       "4                 0  10/13/20  19:15:20   \n",
       "5                 0  10/13/20  19:16:25   \n",
       "6                 1  10/13/20  19:16:54   \n",
       "7                 1  10/13/20  19:17:25   \n",
       "9                 1  10/13/20  19:32:13   \n",
       "10                1  10/13/20  19:32:57   \n",
       "11                1  10/13/20  19:40:51   \n",
       "12                1  10/13/20  19:43:44   \n",
       "13                0  10/13/20  19:44:28   \n",
       "14                0  10/13/20  19:45:18   \n",
       "15                0  10/13/20  19:45:36   \n",
       "16                0  10/13/20  19:55:51   \n",
       "17                0  11/12/20  20:47:38   \n",
       "18                0  11/12/20  20:50:38   \n",
       "19                0  11/12/20  20:50:39   \n",
       "20                0  11/12/20  20:50:40   \n",
       "21                0  11/12/20  20:50:41   \n",
       "22                0  11/12/20  20:50:42   \n",
       "23                0  11/12/20  20:50:43   \n",
       "24                0  11/23/20  22:17:01   \n",
       "\n",
       "                                                  raw  \n",
       "1                       Bob can't access my txt files  \n",
       "4                          I can edit bob's txt files  \n",
       "5                       I can't access bob's txt file  \n",
       "6          Can I access bob's txt file on wednesdays?  \n",
       "7         I want to access bob's txt files on mondays  \n",
       "9               Ben can read my txt files on weekdays  \n",
       "10  Ben can read my txt files on weekdays and satu...  \n",
       "11  I want bob to access my txt files on thursdays...  \n",
       "12  I want bob to access my txt files on thursdays...  \n",
       "13                       I can access bob's txt files  \n",
       "14                   I want to access bob's txt files  \n",
       "15                     Bob can access ben's txt files  \n",
       "16                        Bob can't read my txt files  \n",
       "17                        Bob can access my txt files  \n",
       "18                    Redd can access Bob's txt files  \n",
       "19                  Redd can't access Bob's txt files  \n",
       "20          Redd is allowed access to Bob's txt files  \n",
       "21                    Redd can modify Bob's txt files  \n",
       "22                      Redd can edit Bob's txt files  \n",
       "23                    Redd can change Bob's txt files  \n",
       "24                  Redd can't access bob's txt files  "
      ]
     },
     "execution_count": 148,
     "metadata": {},
     "output_type": "execute_result"
    }
   ],
   "source": [
    "not_null_df = log_df.dropna()\n",
    "not_null_df"
   ]
  },
  {
   "cell_type": "code",
   "execution_count": 149,
   "metadata": {},
   "outputs": [
    {
     "data": {
      "text/html": [
       "<div>\n",
       "<style scoped>\n",
       "    .dataframe tbody tr th:only-of-type {\n",
       "        vertical-align: middle;\n",
       "    }\n",
       "\n",
       "    .dataframe tbody tr th {\n",
       "        vertical-align: top;\n",
       "    }\n",
       "\n",
       "    .dataframe thead th {\n",
       "        text-align: right;\n",
       "    }\n",
       "</style>\n",
       "<table border=\"1\" class=\"dataframe\">\n",
       "  <thead>\n",
       "    <tr style=\"text-align: right;\">\n",
       "      <th></th>\n",
       "      <th>rule_id</th>\n",
       "      <th>acting_user</th>\n",
       "      <th>action</th>\n",
       "      <th>target_type</th>\n",
       "      <th>target_resource</th>\n",
       "      <th>target_user</th>\n",
       "      <th>has_conditional</th>\n",
       "      <th>date</th>\n",
       "      <th>time</th>\n",
       "      <th>raw</th>\n",
       "    </tr>\n",
       "  </thead>\n",
       "  <tbody>\n",
       "    <tr>\n",
       "      <th>0</th>\n",
       "      <td>128</td>\n",
       "      <td>ben</td>\n",
       "      <td>read</td>\n",
       "      <td>NaN</td>\n",
       "      <td>NaN</td>\n",
       "      <td>tyler</td>\n",
       "      <td>1</td>\n",
       "      <td>10/13/20</td>\n",
       "      <td>19:10:06</td>\n",
       "      <td>Ben can read my documents on weekdays after 17:00</td>\n",
       "    </tr>\n",
       "    <tr>\n",
       "      <th>1</th>\n",
       "      <td>129</td>\n",
       "      <td>bob</td>\n",
       "      <td>-edit</td>\n",
       "      <td>case</td>\n",
       "      <td>txt</td>\n",
       "      <td>tyler</td>\n",
       "      <td>0</td>\n",
       "      <td>10/13/20</td>\n",
       "      <td>19:10:32</td>\n",
       "      <td>Bob can't access my txt files</td>\n",
       "    </tr>\n",
       "    <tr>\n",
       "      <th>2</th>\n",
       "      <td>130</td>\n",
       "      <td>NaN</td>\n",
       "      <td>edit</td>\n",
       "      <td>case</td>\n",
       "      <td>txt</td>\n",
       "      <td>bob</td>\n",
       "      <td>1</td>\n",
       "      <td>10/13/20</td>\n",
       "      <td>19:11:04</td>\n",
       "      <td>I can edit bob's txt files on fridays</td>\n",
       "    </tr>\n",
       "    <tr>\n",
       "      <th>3</th>\n",
       "      <td>131</td>\n",
       "      <td>bob</td>\n",
       "      <td>edit</td>\n",
       "      <td>case</td>\n",
       "      <td>txt</td>\n",
       "      <td>NaN</td>\n",
       "      <td>0</td>\n",
       "      <td>10/13/20</td>\n",
       "      <td>19:12:38</td>\n",
       "      <td>Bob can access the txt files that are mine</td>\n",
       "    </tr>\n",
       "    <tr>\n",
       "      <th>4</th>\n",
       "      <td>132</td>\n",
       "      <td>tyler</td>\n",
       "      <td>edit</td>\n",
       "      <td>case</td>\n",
       "      <td>txt</td>\n",
       "      <td>bob</td>\n",
       "      <td>0</td>\n",
       "      <td>10/13/20</td>\n",
       "      <td>19:15:20</td>\n",
       "      <td>I can edit bob's txt files</td>\n",
       "    </tr>\n",
       "  </tbody>\n",
       "</table>\n",
       "</div>"
      ],
      "text/plain": [
       "   rule_id acting_user action target_type target_resource target_user  \\\n",
       "0      128         ben   read         NaN             NaN       tyler   \n",
       "1      129         bob  -edit        case             txt       tyler   \n",
       "2      130         NaN   edit        case             txt         bob   \n",
       "3      131         bob   edit        case             txt         NaN   \n",
       "4      132       tyler   edit        case             txt         bob   \n",
       "\n",
       "   has_conditional      date      time  \\\n",
       "0                1  10/13/20  19:10:06   \n",
       "1                0  10/13/20  19:10:32   \n",
       "2                1  10/13/20  19:11:04   \n",
       "3                0  10/13/20  19:12:38   \n",
       "4                0  10/13/20  19:15:20   \n",
       "\n",
       "                                                 raw  \n",
       "0  Ben can read my documents on weekdays after 17:00  \n",
       "1                      Bob can't access my txt files  \n",
       "2              I can edit bob's txt files on fridays  \n",
       "3         Bob can access the txt files that are mine  \n",
       "4                         I can edit bob's txt files  "
      ]
     },
     "execution_count": 149,
     "metadata": {},
     "output_type": "execute_result"
    }
   ],
   "source": [
    "log_df.head()"
   ]
  },
  {
   "cell_type": "markdown",
   "metadata": {},
   "source": [
    "## Making a word cloud"
   ]
  },
  {
   "cell_type": "code",
   "execution_count": 150,
   "metadata": {
    "scrolled": false
   },
   "outputs": [
    {
     "data": {
      "image/png": "[encoded data removed]",
      "text/plain": [
       "<Figure size 576x576 with 1 Axes>"
      ]
     },
     "metadata": {
      "needs_background": "light"
     },
     "output_type": "display_data"
    }
   ],
   "source": [
    "comment_words = '' \n",
    "stopwords = set(STOPWORDS)\n",
    "#cloud_df = log_df[['acting_user', 'action', 'target_type', 'target_resource', 'target_user', 'raw']]\n",
    "cloud_df = log_df[['raw']]\n",
    "  \n",
    "# iterate through the csv file \n",
    "for val in cloud_df.to_numpy():\n",
    "      \n",
    "    # typecaste each val to string \n",
    "    val = str(val)\n",
    "  \n",
    "    # split the value \n",
    "    tokens = val.split() \n",
    "          \n",
    "    # Converts each token into lowercase \n",
    "    for i in range(len(tokens)): \n",
    "        tokens[i] = tokens[i].lower()\n",
    "    \n",
    "    comment_words += \" \".join(tokens)+\" \"\n",
    "  \n",
    "wordcloud = WordCloud(width = 800, height = 800, \n",
    "                      stopwords = stopwords, \n",
    "                      min_font_size = 15\n",
    "                     ).generate(comment_words) \n",
    "  \n",
    "# plot the WordCloud image                        \n",
    "plt.figure(figsize = (8, 8), facecolor = None) \n",
    "plt.imshow(wordcloud, interpolation='bilinear') \n",
    "plt.axis(\"off\") \n",
    "plt.tight_layout(pad = 0) \n",
    "  \n",
    "plt.show()"
   ]
  },
  {
   "cell_type": "markdown",
   "metadata": {},
   "source": [
    "## Finding suspicious activity"
   ]
  },
  {
   "cell_type": "code",
   "execution_count": 190,
   "metadata": {},
   "outputs": [],
   "source": [
    "def append_sus_df(sus_df, series, sus_type):\n",
    "    suspicion = \"too_abnormal\"\n",
    "    if(sus_type == 'too_frequent' or sus_type == 'too_fast'):\n",
    "        suspicion = sus_type\n",
    "    \n",
    "    new_series = series\n",
    "    new_series.loc[\"suspicion_type\"] = suspicion\n",
    "    sus_df = sus_df.append(new_series, ignore_index=True)\n",
    "    return sus_df\n",
    "\n",
    "def sus_check():        \n",
    "    \"\"\"\n",
    "    Searches through the log file to identify suspicious activity. This kind of activity may\n",
    "    take the form of too many policies created too quickly or a large amount of policies\n",
    "    generated by a single user.\n",
    "    \"\"\"\n",
    "    ## Too many back-to-back rules from one person\n",
    "    sus_df = pd.DataFrame(columns= log_df.columns)\n",
    "    sus_df[\"suspicion_type\"] = \"\"\n",
    "\n",
    "    suspicious_freq = False\n",
    "    suspicious_fast = False\n",
    "    sus_thresh_freq = 4\n",
    "    sus_thresh_fast = 5\n",
    "    current_user = \"\"\n",
    "    current_date = \"\"\n",
    "    current_hour_min = \"\"\n",
    "    current_seconds = 0\n",
    "\n",
    "    repeat_access = 0\n",
    "    fast_repeat_access = 0\n",
    "    for i in range(1, log_df.shape[0]+1):\n",
    "        # Record user\n",
    "        prev_user = current_user\n",
    "        current_user = str(log_df.loc[i-1]['acting_user']).lower()\n",
    "\n",
    "        # Record mm/dd/yy\n",
    "        prev_date = current_date\n",
    "        current_date = log_df.loc[i-1]['date']\n",
    "\n",
    "        # Record hh:mm\n",
    "        prev_hour_min = current_hour_min\n",
    "        current_hour_min = log_df.loc[i-1]['time'][:5]\n",
    "\n",
    "        # Record ss\n",
    "        prev_seconds = current_seconds\n",
    "        current_seconds = int(log_df.loc[i-1]['time'][6:])\n",
    "\n",
    "        if(current_user != 'nan'):\n",
    "            if(current_user == prev_user):\n",
    "                repeat_access += 1\n",
    "                if(repeat_access >= sus_thresh_freq):\n",
    "                    # keep going\n",
    "                    suspicious_freq = True\n",
    "                else:\n",
    "                    # if sus detected, but now flow looks normal, record sus\n",
    "                    if(suspicious_freq):\n",
    "                        series = log_df.loc[i-2]\n",
    "                        sus_df = append_sus_df(sus_df, series, 'too_frequent')\n",
    "                    suspicious_freq = False\n",
    "                    repeat_access = 0\n",
    "\n",
    "                if(current_date == prev_date and current_hour_min == prev_hour_min):   \n",
    "                    # See if the last rule was within a second of the current rule\n",
    "                    if(current_seconds <= (prev_seconds + 1)):\n",
    "                        fast_repeat_access += 1\n",
    "                        if(fast_repeat_access >= sus_thresh_fast):\n",
    "                            # keep going\n",
    "                            suspicious_fast = True\n",
    "                        else:\n",
    "                            if(suspicious_fast):\n",
    "                                series = log_df.loc[i-1]\n",
    "                                sus_df = append_sus_df(sus_df, series, 'too_fast')\n",
    "                            suspicious_fast = False\n",
    "                            fast_repeat_access = 0\n",
    "                    else:\n",
    "                        if(suspicious_fast):\n",
    "                            series = log_df.loc[i-1]\n",
    "                            sus_df = append_sus_df(sus_df, series, 'too_fast')\n",
    "                        suspicious_fast = False\n",
    "                        fast_repeat_access = 0\n",
    "            else:\n",
    "                repeat_access = 0\n",
    "                fast_repeat_access = 0\n",
    "                if(suspicious_freq):\n",
    "                    series = log_df.loc[i-2]\n",
    "                    sus_df = append_sus_df(sus_df, series, 'too_frequent')\n",
    "                suspicious_freq = False\n",
    "                if(suspicious_fast):\n",
    "                    series = log_df.loc[i-1]\n",
    "                    sus_df = append_sus_df(sus_df, series, 'too_fast')\n",
    "                suspicious_fast = False\n",
    "                    \n",
    "\n",
    "    sus_df.sort_values(by= 'date', inplace= True)\n",
    "    return sus_df.tail()\n"
   ]
  },
  {
   "cell_type": "code",
   "execution_count": 191,
   "metadata": {
    "scrolled": false
   },
   "outputs": [
    {
     "name": "stderr",
     "output_type": "stream",
     "text": [
      "c:\\users\\tyler\\appdata\\local\\programs\\python\\python37\\lib\\site-packages\\pandas\\core\\indexing.py:670: SettingWithCopyWarning:\n",
      "\n",
      "\n",
      "A value is trying to be set on a copy of a slice from a DataFrame\n",
      "\n",
      "See the caveats in the documentation: https://pandas.pydata.org/pandas-docs/stable/user_guide/indexing.html#returning-a-view-versus-a-copy\n",
      "\n"
     ]
    },
    {
     "data": {
      "text/html": [
       "<div>\n",
       "<style scoped>\n",
       "    .dataframe tbody tr th:only-of-type {\n",
       "        vertical-align: middle;\n",
       "    }\n",
       "\n",
       "    .dataframe tbody tr th {\n",
       "        vertical-align: top;\n",
       "    }\n",
       "\n",
       "    .dataframe thead th {\n",
       "        text-align: right;\n",
       "    }\n",
       "</style>\n",
       "<table border=\"1\" class=\"dataframe\">\n",
       "  <thead>\n",
       "    <tr style=\"text-align: right;\">\n",
       "      <th></th>\n",
       "      <th>rule_id</th>\n",
       "      <th>acting_user</th>\n",
       "      <th>action</th>\n",
       "      <th>target_type</th>\n",
       "      <th>target_resource</th>\n",
       "      <th>target_user</th>\n",
       "      <th>has_conditional</th>\n",
       "      <th>date</th>\n",
       "      <th>time</th>\n",
       "      <th>raw</th>\n",
       "      <th>suspicion_type</th>\n",
       "    </tr>\n",
       "  </thead>\n",
       "  <tbody>\n",
       "    <tr>\n",
       "      <th>0</th>\n",
       "      <td>136</td>\n",
       "      <td>tyler</td>\n",
       "      <td>edit</td>\n",
       "      <td>NaN</td>\n",
       "      <td>NaN</td>\n",
       "      <td>tyler</td>\n",
       "      <td>1</td>\n",
       "      <td>10/13/20</td>\n",
       "      <td>19:25:25</td>\n",
       "      <td>I want bob to access my files on thursdays and...</td>\n",
       "      <td>too_frequent</td>\n",
       "    </tr>\n",
       "  </tbody>\n",
       "</table>\n",
       "</div>"
      ],
      "text/plain": [
       "  rule_id acting_user action target_type target_resource target_user  \\\n",
       "0     136       tyler   edit         NaN             NaN       tyler   \n",
       "\n",
       "  has_conditional      date      time  \\\n",
       "0               1  10/13/20  19:25:25   \n",
       "\n",
       "                                                 raw suspicion_type  \n",
       "0  I want bob to access my files on thursdays and...   too_frequent  "
      ]
     },
     "execution_count": 191,
     "metadata": {},
     "output_type": "execute_result"
    }
   ],
   "source": [
    "sus_check()"
   ]
  },
  {
   "cell_type": "code",
   "execution_count": null,
   "metadata": {},
   "outputs": [],
   "source": []
  }
 ],
 "metadata": {
  "kernelspec": {
   "display_name": "Python 3",
   "language": "python",
   "name": "python3"
  },
  "language_info": {
   "codemirror_mode": {
    "name": "ipython",
    "version": 3
   },
   "file_extension": ".py",
   "mimetype": "text/x-python",
   "name": "python",
   "nbconvert_exporter": "python",
   "pygments_lexer": "ipython3",
   "version": "3.7.6"
  }
 },
 "nbformat": 4,
 "nbformat_minor": 4
}
